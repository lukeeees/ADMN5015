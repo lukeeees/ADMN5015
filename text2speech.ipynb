{
  "nbformat": 4,
  "nbformat_minor": 0,
  "metadata": {
    "colab": {
      "provenance": [],
      "authorship_tag": "ABX9TyOw+ehOTqBUuOw/oZZiU6hs",
      "include_colab_link": true
    },
    "kernelspec": {
      "name": "python3",
      "display_name": "Python 3"
    },
    "language_info": {
      "name": "python"
    }
  },
  "cells": [
    {
      "cell_type": "markdown",
      "metadata": {
        "id": "view-in-github",
        "colab_type": "text"
      },
      "source": [
        "<a href=\"https://colab.research.google.com/github/lukeeees/ADMN5015/blob/main/text2speech.ipynb\" target=\"_parent\"><img src=\"https://colab.research.google.com/assets/colab-badge.svg\" alt=\"Open In Colab\"/></a>"
      ]
    },
    {
      "cell_type": "markdown",
      "source": [
        "# Marketing - Speech-to-text\n",
        "Author: Luke Nigel Laylo\n",
        "\n",
        "\n",
        "---\n",
        "\n",
        "\n",
        "\n",
        "* Enable your Google Cloud Platform (GCP) Speech-to-Text API.\n",
        "* Enable your GCP Natural Language API.\n",
        "* Create or reuse a GCP Service Account.\n",
        "* Create a call center audio file (WAV extensions work best).\n",
        "* Create a bucket in GCP Storage.\n",
        "* Upload your audio WAV file to your GCP Storage bucket (your audio file must be different from the one used in class).\n",
        "* Extract the text from your audio file.\n",
        "* Run a sentiment analysis process on the extracted audio text.\n",
        "* Store each speech-extracted record in a No-SQL database like Firestore.  Your database must have these keys in each document:\n",
        "** wav_filename (e.g. \"1.wav\")\n",
        "** sentence_number (e.g. 1) \n",
        "** sentence_text (e.g. \"Thanks for calling XYZ my name is John\")\n",
        "** sentiment (e.g. 0.87)\n",
        "** magnitude (e.g. 1.2)\n",
        "** transcription_date (e.g. \"2023-01-28\")\n",
        "*Visualize your findings."
      ],
      "metadata": {
        "id": "SRZVWtQ8XTbG"
      }
    },
    {
      "cell_type": "code",
      "execution_count": 1,
      "metadata": {
        "id": "x1KDzUFcN5aL"
      },
      "outputs": [],
      "source": [
        "#!pip install --upgrade google-cloud-storage --quiet"
      ]
    },
    {
      "cell_type": "code",
      "source": [
        "#!pip install --upgrade google-cloud-speech --quiet\n"
      ],
      "metadata": {
        "id": "RxOzuR4-SJXK"
      },
      "execution_count": 2,
      "outputs": []
    },
    {
      "cell_type": "code",
      "source": [
        "#imports\n",
        "import os\n",
        "from google.cloud import storage\n",
        "from google.cloud import speech\n",
        "import firebase_admin\n",
        "from firebase_admin import credentials\n",
        "from firebase_admin import firestore\n",
        "from google.cloud import language_v1\n",
        "import pandas as pd\n",
        "from datetime import datetime\n",
        "import numpy as np\n",
        "import matplotlib.pyplot as plt\n",
        "plt.style.use('fivethirtyeight')"
      ],
      "metadata": {
        "id": "dghEEBjyOxCF"
      },
      "execution_count": 32,
      "outputs": []
    },
    {
      "cell_type": "markdown",
      "source": [
        "## Create environment variable for google services"
      ],
      "metadata": {
        "id": "RINSPlJwX727"
      }
    },
    {
      "cell_type": "code",
      "source": [
        "# Create environment variable for google cloud storage\n",
        "os.environ['GOOGLE_APPLICATION_CREDENTIALS'] = '/content'+os.sep+'admn-5015-3282eb056f4f.json'\n",
        "BUCKET_NAME  = 'my-new-bucket-luke-laylo-14344'\n",
        "cred = credentials.Certificate('/content'+os.sep+'admn-5015-3282eb056f4f.json')\n",
        "app = firebase_admin.initialize_app(cred)\n"
      ],
      "metadata": {
        "id": "G5tZVxrtO1eA"
      },
      "execution_count": 4,
      "outputs": []
    },
    {
      "cell_type": "code",
      "source": [
        "# # Imports the Google Cloud client library\n",
        "# from google.cloud import storage\n",
        "\n",
        "# # Instantiates a client\n",
        "# storage_client = storage.Client()\n",
        "\n",
        "# # The name for the new bucket\n",
        "# bucket_name = \"my-new-bucket-luke-laylo-14344\"\n",
        "\n",
        "# # Creates the new bucket\n",
        "# bucket = storage_client.create_bucket(bucket_name)\n",
        "\n",
        "# print(f\"Bucket {bucket.name} created.\")"
      ],
      "metadata": {
        "id": "a1bkVrhnN_IF"
      },
      "execution_count": 5,
      "outputs": []
    },
    {
      "cell_type": "markdown",
      "source": [
        "## Extract Audio and save to Firebase"
      ],
      "metadata": {
        "id": "hwq8mVHwYIqu"
      }
    },
    {
      "cell_type": "code",
      "source": [
        "def list_blobs(bucket_name):\n",
        "    storage_client = storage.Client()\n",
        "\n",
        "    # Note: Client.list_blobs requires at least package version 1.17.0.\n",
        "    blobs = storage_client.list_blobs(bucket_name)\n",
        "\n",
        "    return blobs\n",
        "\n",
        "\n",
        "def extract_audio_gcs(gcs_uri):\n",
        "    \"\"\"Asynchronously transcribes the audio file specified by the gcs_uri.\"\"\"\n",
        "\n",
        "    client = speech.SpeechClient()\n",
        "\n",
        "    audio = speech.RecognitionAudio(uri=gcs_uri)\n",
        "    config = speech.RecognitionConfig(\n",
        "        encoding=speech.RecognitionConfig.AudioEncoding.LINEAR16,\n",
        "        audio_channel_count=2,\n",
        "        language_code=\"en-US\",\n",
        "    )\n",
        "\n",
        "    operation = client.long_running_recognize(config=config, audio=audio)\n",
        "\n",
        "    print(\"Waiting for operation to complete...\")\n",
        "    response = operation.result(timeout=600)\n",
        "\n",
        "    return response\n",
        "\n",
        "def sentiment_analyzer(transcript):\n",
        "    \"\"\"\n",
        "    Analyzes the sentiment of the text.\n",
        "    \"\"\"\n",
        "    client = language_v1.LanguageServiceClient()\n",
        "\n",
        "    # The text to analyze\n",
        "    text = transcript\n",
        "    document = language_v1.Document(\n",
        "    content=text, type_=language_v1.Document.Type.PLAIN_TEXT\n",
        "    )\n",
        "\n",
        "    # Detects the sentiment of the text\n",
        "    sentiment = client.analyze_sentiment(\n",
        "    request={\"document\": document}\n",
        "    ).document_sentiment\n",
        "\n",
        "    return sentiment\n",
        "    \n",
        "\n",
        "def save_to_db(number,transcript,sentiment,magnitude):\n",
        "    # TODO: save to db\n",
        "\n",
        "    db = firestore.client()    \n",
        "    doc_ref = db.collection(u'Callcenter').document()\n",
        "    doc_ref.set({\n",
        "        u'wav_filename': u'callcenter.wav',\n",
        "        u'sentence_number': number,\n",
        "        u'sentence_text': transcript,\n",
        "        u'sentiment': sentiment,\n",
        "        u'magnitude': magnitude,\n",
        "        u'transcription_date': firestore.SERVER_TIMESTAMP\n",
        "    })\n",
        "    print('Document {} created'.format(doc_ref.id))"
      ],
      "metadata": {
        "id": "vvjjct_iOZAe"
      },
      "execution_count": 10,
      "outputs": []
    },
    {
      "cell_type": "code",
      "source": [
        "def main():\n",
        "\n",
        "    blobs = list_blobs(BUCKET_NAME)\n",
        "    # Extract audio from each file\n",
        "    for blob in blobs:\n",
        "\n",
        "        gcs_uri = \"gs://\" + BUCKET_NAME + \"/\" + blob.name\n",
        "        print(\"\\nThis is the uri: {}\".format(gcs_uri))\n",
        "\n",
        "        response = extract_audio_gcs(gcs_uri)\n",
        "        count = 0\n",
        "        for result in response.results:\n",
        "            alternative = result.alternatives[0]\n",
        "            print(u\"Transcript: {}\".format(alternative.transcript))    \n",
        "            print(u\"Confidence: {}\".format(alternative.confidence))\n",
        "            sentiment = sentiment_analyzer(alternative.transcript)\n",
        "            print(sentiment.score)\n",
        "            print(sentiment.magnitude)\n",
        "            save_to_db(count,alternative.transcript, sentiment.score, sentiment.magnitude)\n",
        "            count +=1\n",
        "\n",
        "\n",
        "  \n",
        "if __name__ == \"__main__\":\n",
        "  main()"
      ],
      "metadata": {
        "colab": {
          "base_uri": "https://localhost:8080/"
        },
        "id": "Qn-Sj5MbQZCG",
        "outputId": "3037e9fa-ec09-45c3-fdba-3b431a28f48f"
      },
      "execution_count": 11,
      "outputs": [
        {
          "output_type": "stream",
          "name": "stdout",
          "text": [
            "\n",
            "This is the uri: gs://my-new-bucket-luke-laylo-14344/callcenter.wav\n",
            "Waiting for operation to complete...\n",
            "Transcript: thank you for calling Master booze this is a Saleen how can I help you today\n",
            "Confidence: 0.8807554841041565\n",
            "0.20000000298023224\n",
            "0.20000000298023224\n",
            "Document e9LqiK1htP35V80lyhVZ created\n",
            "Transcript:  you tell me I'm looking at my statement that it's either you guys charge my credit card for $67.81 when it initially signed up for a $40 plan guess what my bank charged me for an overdraft fee this is ridiculous if I know that you lied to me I should have chosen global phone instead very very disappointing I've been with you guys for so many years now I've started my account in postpaid I decided to switch over prepay and I want you to cancel my account completely with this again\n",
            "Confidence: 0.965475857257843\n",
            "-0.800000011920929\n",
            "0.800000011920929\n",
            "Document arNzDTBcEll1vmq9Zsbz created\n",
            "Transcript:  Egyptian amount of money and I want to make sure that this will be taken care of today by the way I'll let me have your name so I can address you properly\n",
            "Confidence: 0.9319584369659424\n",
            "-0.30000001192092896\n",
            "0.30000001192092896\n",
            "Document 2oGIzuGTjPMVoP0BCJPA created\n",
            "Transcript:  my name is Linda Marrone and you better do something about his today or else change carriers I understand Linda and I want to make sure that I'll be able to check all the details of your account so I could come up with the best resolution for you today may have your mobile number in your 4 digit PIN please mobile number is 607-598-6992 pain is 0 9 0 3\n",
            "Confidence: 0.932616651058197\n",
            "-0.10000000149011612\n",
            "0.10000000149011612\n",
            "Document Aig92fqvJplvyFsWj7u1 created\n",
            "Transcript:  thank you alright to Linda was able to pull up your account details I've seen that he initially created the account through our Metro boost or December 21st and they planned it was graded for you was the $65 unlimited plan so it includes unlimited calls text and data the additional $2.81 that was charged is coming from the Texas weight and limited what about the 40s. $40 is a limited that's one less person told me last time\n",
            "Confidence: 0.9529213309288025\n",
            "0.0\n",
            "0.0\n",
            "Document Wz4vhi0AbUk5G51paXT2 created\n",
            "Transcript:  oh I apologize for the confusion but it is not unlimited you only got 5 gigs of data for $40 up Linda we have four different plans we have a $30 plan the cheapest that we have it has unlimited calls and texts but it doesn't have a data on it then the $40 plan that has a limited call send text with 5 gigs of data at $50 plan with unlimited calls and texts and 15 GB of data and lastly the $65 plan with unlimited calls text and data so let me make sure that I understand it correctly the salesperson told you that the $40 plan has unlimited calls text and data is that correct\n",
            "Confidence: 0.9556829333305359\n",
            "-0.4000000059604645\n",
            "0.4000000059604645\n",
            "Document hW6BAWIZrnX6VWmwhX13 created\n",
            "Transcript:  actually to be honest with you I'm not sure it's telling me bunch of different things and you don't remember if the $40 plan includes unlimited data but I'm pretty sure it has unlimited calls and texts\n",
            "Confidence: 0.925877034664154\n",
            "-0.4000000059604645\n",
            "0.4000000059604645\n",
            "Document ENpMtiKKh1SBaUJSwWbE created\n",
            "Transcript:  okay that's all right if I may ask how do you usually use your phone in terms of data in terms of data or well I use Facebook a lot and what's Netflix a lot check my email and play some games to\n",
            "Confidence: 0.9408453106880188\n",
            "-0.30000001192092896\n",
            "0.30000001192092896\n",
            "Document swWPiHmiRxZl7qbf9AaQ created\n",
            "Transcript:  well that's quite a lot to do you think that the five kicks if they do for $40 would be enough for you know I don't think it would work\n",
            "Confidence: 0.840329110622406\n",
            "-0.5\n",
            "0.5\n",
            "Document 5ZZobzGdU1UdOKZ7aCek created\n",
            "Transcript:  write this plan is really perfect for you since you've got so many activities that require stated and it was a $65 Unlimited Plan you want me to worry about running out of data. It said you'd like to stay with your $65 unlimited plan so I'll keep it as it is for you no changes should be made correct that's right already say well do you have any other questions for me today know Julian's you're well I'll pay you $65 per month for the limited plan and $2.81 for the taxes correct\n",
            "Confidence: 0.9522622227668762\n",
            "0.10000000149011612\n",
            "1.399999976158142\n",
            "Document wv6dpcbj8ejC0tcnkc42 created\n",
            "Transcript:  yes that's correct Linda expect no other charges in your account every month aside from the $67.81 and why do I have a good news for you and understand that you've been with us for so many years now you started your account with postpaid and switched over prepaid soda Fitness about it is once you've reached your third month of Adar has your next bill will have a $5 discount on it so instead of paying $65 for the plan it only be $60 and once you've reached your nice more with Prepaid you'll get an additional $5 discount to instead of paying $6 you only need to pay $55\n",
            "Confidence: 0.9611838459968567\n",
            "-0.20000000298023224\n",
            "0.20000000298023224\n",
            "Document nCbuHxfjNnyH6aJ70ot0 created\n",
            "Transcript:  wow that's all Tim this is a lot cheaper than what I paid before and both Bay exactly I'm glad to let you know that if you decided to enroll your credit card and go to pay you'll get an additional $5 discount on your bill every month so let's say you decided to enroll your credit card and go to paint today you'll automatically get the $5 discount on your next billing cycle so instead of paying 6781 you only need to pay $62.81 I owe seriously how do you have them attributes app on your phone\n",
            "Confidence: 0.9518533945083618\n",
            "0.30000001192092896\n",
            "0.30000001192092896\n",
            "Document OFS3kvf04N9Pi6Xkjikg created\n",
            "Transcript:  yes I do I download it as last time I saw him up that app for me\n",
            "Confidence: 0.8309769630432129\n",
            "0.20000000298023224\n",
            "0.20000000298023224\n",
            "Document BVfNdOhIXkxohDGjYmrN created\n",
            "Transcript:  login with your Metro Boost account and let me know once you're into homepage okay okay I'm in all right corner you'll see the hamburger icon or the three horizontal lines correct\n",
            "Confidence: 0.9157912731170654\n",
            "0.10000000149011612\n",
            "0.10000000149011612\n",
            "Document RcaYDuCYBHSJT1xna2HR created\n",
            "Transcript:  all right now is she feed betta Checker payment account my devices shop now and sign out perfect now click okay now it says your next payment is due in 27 days available balance is 0 then blow it says F1 and auto pay\n",
            "Confidence: 0.8962886929512024\n",
            "-0.800000011920929\n",
            "0.800000011920929\n",
            "Document 2aiHInG4m5tBDci4qJi1 created\n",
            "Transcript:  oh yeah I do\n",
            "Confidence: 0.9839401245117188\n",
            "0.6000000238418579\n",
            "0.6000000238418579\n",
            "Document yKGLzWs2hYWqxet8oCkA created\n",
            "Transcript:  alright Salem if you're ready to set up your auto pay today you'll just need to turn on 20 to pay option p and your credit card information is sated the hell right now and I'll be using a different card for 20 to pay\n",
            "Confidence: 0.915946900844574\n",
            "-0.699999988079071\n",
            "0.699999988079071\n",
            "Document gJ6ZtlidiXGPdGR689ZW created\n",
            "Transcript:  okay not a problem you already noticed that's so it will be easy for you\n",
            "Confidence: 0.8503420948982239\n",
            "0.20000000298023224\n",
            "0.20000000298023224\n",
            "Document KmKUCbfWatx33XHAzRJi created\n",
            "Transcript:  exactly well thank you so much for letting me know all this good stuff\n",
            "Confidence: 0.9790781736373901\n",
            "0.8999999761581421\n",
            "0.8999999761581421\n",
            "Document iS6NMcLCkjDRWiZSLUPo created\n",
            "Transcript:  you're welcome Linda I appreciate your board to remind me today to make sure that everything is clear in terms of your plan details and I'm glad that I was able to give you a walkthrough on how to set up auto pay so you can take advantage of discount that comes with it so well will there be anything else that I could produce a stupid today has been very helpful your bring back the confidence that I have a job you say thought I lost when it started getting these unexplainable charges but everything is so clear for me and now we understand how their plan works and they don't have any further questions\n",
            "Confidence: 0.9596158862113953\n",
            "0.800000011920929\n",
            "0.800000011920929\n",
            "Document 8domFWQXqQAmH5GlGTsZ created\n",
            "Transcript:  you just don't know how\n",
            "Confidence: 0.9699508547782898\n",
            "-0.5\n",
            "0.5\n",
            "Document JefppFixYofvmB7cHHcF created\n",
            "Transcript:  I'm back your trust with us and if you don't have any further questions thank you so much for being the best part of Metro. Have a good one bye bye\n",
            "Confidence: 0.935958206653595\n",
            "0.699999988079071\n",
            "1.5\n",
            "Document FBsr8spxqAVjMXzZCEEE created\n"
          ]
        }
      ]
    },
    {
      "cell_type": "markdown",
      "source": [
        "## Fetching data from Firebase"
      ],
      "metadata": {
        "id": "Pf3XV0SlYSkr"
      }
    },
    {
      "cell_type": "code",
      "source": [
        "db = firestore.client() \n",
        "\n",
        "# # Read data from Firestore\n",
        "users_ref = db.collection(u'Callcenter')\n",
        "docs = users_ref.stream()\n",
        "\n",
        "number= []\n",
        "transcript= []\n",
        "sentiment_score= []\n",
        "sentiment_magnitude= []\n",
        "timestamp = []\n",
        "for doc in docs:\n",
        "    number.append(doc.to_dict().get('sentence_number'))\n",
        "    transcript.append(doc.to_dict().get('sentence_text'))\n",
        "    sentiment_score.append(doc.to_dict().get('sentiment'))\n",
        "    sentiment_magnitude.append(doc.to_dict().get('magnitude'))\n",
        "    timestamp.append(doc.to_dict().get('transcription_date'))\n",
        "\n",
        "df = pd.DataFrame({'sentence_number':number, 'sentence_text':transcript, 'sentiment':sentiment_score, 'sentiment_magnitude':sentiment_magnitude, 'timestamp':timestamp})"
      ],
      "metadata": {
        "id": "T3W3A45wSU7j"
      },
      "execution_count": 35,
      "outputs": []
    },
    {
      "cell_type": "code",
      "source": [
        "df.head()"
      ],
      "metadata": {
        "colab": {
          "base_uri": "https://localhost:8080/",
          "height": 337
        },
        "id": "RVdF5K5WQkAz",
        "outputId": "82acfc6e-0bb6-461e-9c9b-8b3e0082cd9f"
      },
      "execution_count": 36,
      "outputs": [
        {
          "output_type": "execute_result",
          "data": {
            "text/plain": [
              "   sentence_number                                      sentence_text  \\\n",
              "0               14   all right now is she feed betta Checker payme...   \n",
              "1                2   Egyptian amount of money and I want to make s...   \n",
              "2                8   well that's quite a lot to do you think that ...   \n",
              "3               19   you're welcome Linda I appreciate your board ...   \n",
              "4                3   my name is Linda Marrone and you better do so...   \n",
              "\n",
              "   sentiment  sentiment_magnitude                        timestamp  \n",
              "0       -0.8                  0.8 2023-02-03 03:29:44.582000+00:00  \n",
              "1       -0.3                  0.3 2023-02-03 03:29:40.918000+00:00  \n",
              "2       -0.5                  0.5 2023-02-03 03:29:42.782000+00:00  \n",
              "3        0.8                  0.8 2023-02-03 03:29:46.058000+00:00  \n",
              "4       -0.1                  0.1 2023-02-03 03:29:41.210000+00:00  "
            ],
            "text/html": [
              "\n",
              "  <div id=\"df-4e506373-080a-458a-8fdf-0f0d8be69269\">\n",
              "    <div class=\"colab-df-container\">\n",
              "      <div>\n",
              "<style scoped>\n",
              "    .dataframe tbody tr th:only-of-type {\n",
              "        vertical-align: middle;\n",
              "    }\n",
              "\n",
              "    .dataframe tbody tr th {\n",
              "        vertical-align: top;\n",
              "    }\n",
              "\n",
              "    .dataframe thead th {\n",
              "        text-align: right;\n",
              "    }\n",
              "</style>\n",
              "<table border=\"1\" class=\"dataframe\">\n",
              "  <thead>\n",
              "    <tr style=\"text-align: right;\">\n",
              "      <th></th>\n",
              "      <th>sentence_number</th>\n",
              "      <th>sentence_text</th>\n",
              "      <th>sentiment</th>\n",
              "      <th>sentiment_magnitude</th>\n",
              "      <th>timestamp</th>\n",
              "    </tr>\n",
              "  </thead>\n",
              "  <tbody>\n",
              "    <tr>\n",
              "      <th>0</th>\n",
              "      <td>14</td>\n",
              "      <td>all right now is she feed betta Checker payme...</td>\n",
              "      <td>-0.8</td>\n",
              "      <td>0.8</td>\n",
              "      <td>2023-02-03 03:29:44.582000+00:00</td>\n",
              "    </tr>\n",
              "    <tr>\n",
              "      <th>1</th>\n",
              "      <td>2</td>\n",
              "      <td>Egyptian amount of money and I want to make s...</td>\n",
              "      <td>-0.3</td>\n",
              "      <td>0.3</td>\n",
              "      <td>2023-02-03 03:29:40.918000+00:00</td>\n",
              "    </tr>\n",
              "    <tr>\n",
              "      <th>2</th>\n",
              "      <td>8</td>\n",
              "      <td>well that's quite a lot to do you think that ...</td>\n",
              "      <td>-0.5</td>\n",
              "      <td>0.5</td>\n",
              "      <td>2023-02-03 03:29:42.782000+00:00</td>\n",
              "    </tr>\n",
              "    <tr>\n",
              "      <th>3</th>\n",
              "      <td>19</td>\n",
              "      <td>you're welcome Linda I appreciate your board ...</td>\n",
              "      <td>0.8</td>\n",
              "      <td>0.8</td>\n",
              "      <td>2023-02-03 03:29:46.058000+00:00</td>\n",
              "    </tr>\n",
              "    <tr>\n",
              "      <th>4</th>\n",
              "      <td>3</td>\n",
              "      <td>my name is Linda Marrone and you better do so...</td>\n",
              "      <td>-0.1</td>\n",
              "      <td>0.1</td>\n",
              "      <td>2023-02-03 03:29:41.210000+00:00</td>\n",
              "    </tr>\n",
              "  </tbody>\n",
              "</table>\n",
              "</div>\n",
              "      <button class=\"colab-df-convert\" onclick=\"convertToInteractive('df-4e506373-080a-458a-8fdf-0f0d8be69269')\"\n",
              "              title=\"Convert this dataframe to an interactive table.\"\n",
              "              style=\"display:none;\">\n",
              "        \n",
              "  <svg xmlns=\"http://www.w3.org/2000/svg\" height=\"24px\"viewBox=\"0 0 24 24\"\n",
              "       width=\"24px\">\n",
              "    <path d=\"M0 0h24v24H0V0z\" fill=\"none\"/>\n",
              "    <path d=\"M18.56 5.44l.94 2.06.94-2.06 2.06-.94-2.06-.94-.94-2.06-.94 2.06-2.06.94zm-11 1L8.5 8.5l.94-2.06 2.06-.94-2.06-.94L8.5 2.5l-.94 2.06-2.06.94zm10 10l.94 2.06.94-2.06 2.06-.94-2.06-.94-.94-2.06-.94 2.06-2.06.94z\"/><path d=\"M17.41 7.96l-1.37-1.37c-.4-.4-.92-.59-1.43-.59-.52 0-1.04.2-1.43.59L10.3 9.45l-7.72 7.72c-.78.78-.78 2.05 0 2.83L4 21.41c.39.39.9.59 1.41.59.51 0 1.02-.2 1.41-.59l7.78-7.78 2.81-2.81c.8-.78.8-2.07 0-2.86zM5.41 20L4 18.59l7.72-7.72 1.47 1.35L5.41 20z\"/>\n",
              "  </svg>\n",
              "      </button>\n",
              "      \n",
              "  <style>\n",
              "    .colab-df-container {\n",
              "      display:flex;\n",
              "      flex-wrap:wrap;\n",
              "      gap: 12px;\n",
              "    }\n",
              "\n",
              "    .colab-df-convert {\n",
              "      background-color: #E8F0FE;\n",
              "      border: none;\n",
              "      border-radius: 50%;\n",
              "      cursor: pointer;\n",
              "      display: none;\n",
              "      fill: #1967D2;\n",
              "      height: 32px;\n",
              "      padding: 0 0 0 0;\n",
              "      width: 32px;\n",
              "    }\n",
              "\n",
              "    .colab-df-convert:hover {\n",
              "      background-color: #E2EBFA;\n",
              "      box-shadow: 0px 1px 2px rgba(60, 64, 67, 0.3), 0px 1px 3px 1px rgba(60, 64, 67, 0.15);\n",
              "      fill: #174EA6;\n",
              "    }\n",
              "\n",
              "    [theme=dark] .colab-df-convert {\n",
              "      background-color: #3B4455;\n",
              "      fill: #D2E3FC;\n",
              "    }\n",
              "\n",
              "    [theme=dark] .colab-df-convert:hover {\n",
              "      background-color: #434B5C;\n",
              "      box-shadow: 0px 1px 3px 1px rgba(0, 0, 0, 0.15);\n",
              "      filter: drop-shadow(0px 1px 2px rgba(0, 0, 0, 0.3));\n",
              "      fill: #FFFFFF;\n",
              "    }\n",
              "  </style>\n",
              "\n",
              "      <script>\n",
              "        const buttonEl =\n",
              "          document.querySelector('#df-4e506373-080a-458a-8fdf-0f0d8be69269 button.colab-df-convert');\n",
              "        buttonEl.style.display =\n",
              "          google.colab.kernel.accessAllowed ? 'block' : 'none';\n",
              "\n",
              "        async function convertToInteractive(key) {\n",
              "          const element = document.querySelector('#df-4e506373-080a-458a-8fdf-0f0d8be69269');\n",
              "          const dataTable =\n",
              "            await google.colab.kernel.invokeFunction('convertToInteractive',\n",
              "                                                     [key], {});\n",
              "          if (!dataTable) return;\n",
              "\n",
              "          const docLinkHtml = 'Like what you see? Visit the ' +\n",
              "            '<a target=\"_blank\" href=https://colab.research.google.com/notebooks/data_table.ipynb>data table notebook</a>'\n",
              "            + ' to learn more about interactive tables.';\n",
              "          element.innerHTML = '';\n",
              "          dataTable['output_type'] = 'display_data';\n",
              "          await google.colab.output.renderOutput(dataTable, element);\n",
              "          const docLink = document.createElement('div');\n",
              "          docLink.innerHTML = docLinkHtml;\n",
              "          element.appendChild(docLink);\n",
              "        }\n",
              "      </script>\n",
              "    </div>\n",
              "  </div>\n",
              "  "
            ]
          },
          "metadata": {},
          "execution_count": 36
        }
      ]
    },
    {
      "cell_type": "code",
      "source": [
        "df.shape"
      ],
      "metadata": {
        "colab": {
          "base_uri": "https://localhost:8080/"
        },
        "id": "-MUFMqRaZl7i",
        "outputId": "31efadb6-7523-4ba1-99c5-de52a0e5c6b6"
      },
      "execution_count": 29,
      "outputs": [
        {
          "output_type": "execute_result",
          "data": {
            "text/plain": [
              "(22, 5)"
            ]
          },
          "metadata": {},
          "execution_count": 29
        }
      ]
    },
    {
      "cell_type": "code",
      "source": [
        "# save to csv\n",
        "df.to_csv('sentiment_data.csv', index=False)"
      ],
      "metadata": {
        "id": "EXP9btlaU0pf"
      },
      "execution_count": 14,
      "outputs": []
    },
    {
      "cell_type": "markdown",
      "source": [
        "## Findings"
      ],
      "metadata": {
        "id": "VboOKty8YX6m"
      }
    },
    {
      "cell_type": "code",
      "source": [
        "# visualize data by line graph\n",
        "\n",
        "df.plot(x='timestamp', y='sentiment', kind ='line')\n",
        "plt.title('Sentiment Analysis')\n",
        "plt.xlabel('Time')\n",
        "plt.ylabel('Sentiment')\n",
        "plt.show()"
      ],
      "metadata": {
        "colab": {
          "base_uri": "https://localhost:8080/",
          "height": 317
        },
        "id": "IO1u4A_cU-AQ",
        "outputId": "e61c6181-baf1-4d13-f009-843c9068109b"
      },
      "execution_count": 25,
      "outputs": [
        {
          "output_type": "display_data",
          "data": {
            "text/plain": [
              "<Figure size 432x288 with 1 Axes>"
            ],
            "image/png": "[encoded data removed]"
          },
          "metadata": {}
        }
      ]
    },
    {
      "cell_type": "markdown",
      "source": [
        "### Obeservations\n",
        "We can see that the conversation started with the agent with a please introduction but the customer was not happy with the service at first. The client tried to be patient even if the customer was always negative.\n",
        "\n",
        "We can see that the conversation towards the end the conversation is positive."
      ],
      "metadata": {
        "id": "pvSCyeDYZWEp"
      }
    },
    {
      "cell_type": "code",
      "source": [
        "# visualize data by line graph\n",
        "\n",
        "df.plot(x='timestamp', y='sentiment_magnitude', kind ='line')\n",
        "plt.title('Sentiment Analysis on Magnitude')\n",
        "plt.xlabel('Time')\n",
        "plt.ylabel('Sentiment')\n",
        "plt.show()"
      ],
      "metadata": {
        "colab": {
          "base_uri": "https://localhost:8080/",
          "height": 317
        },
        "id": "8kYcfHl9WsJv",
        "outputId": "eae5fb56-4865-45fa-face-4bb5bc5caf16"
      },
      "execution_count": 28,
      "outputs": [
        {
          "output_type": "display_data",
          "data": {
            "text/plain": [
              "<Figure size 432x288 with 1 Axes>"
            ],
            "image/png": "[encoded data removed]"
          },
          "metadata": {}
        }
      ]
    },
    {
      "cell_type": "markdown",
      "source": [
        "### Observations\n",
        "This graph shows how intense the conversation between the customer and the agent went where it didn't escalate to a very bad conversation. \n",
        "\n",
        "We could see that the conversation was between neutral - positive.\n",
        "\n",
        "We can say that the agent was able to empathize with the customer and resolved the problems the customer encountered."
      ],
      "metadata": {
        "id": "zmvN7YCfaKvU"
      }
    }
  ]
}